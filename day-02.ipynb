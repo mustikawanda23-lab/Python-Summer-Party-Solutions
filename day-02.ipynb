{
  "cells": [
    {
      "cell_type": "markdown",
      "metadata": {},
      "source": [
        "# Day 2: Sponsored Posts Click Performance"
      ]
    },
    {
      "cell_type": "markdown",
      "metadata": {},
      "source": [
        "You are a Product Analyst on the Amazon Sponsored Advertising team investigating sponsored product ad engagement across electronics categories. Your team wants to understand CTR variations to optimize targeted advertising strategies."
      ]
    },
    {
      "cell_type": "code",
      "metadata": {},
      "execution_count": null,
      "outputs": [],
      "source": "import pandas as pd\nimport numpy as np\n\ndim_product_data = [\n  {\n    \"product_id\": 1,\n    \"product_name\": \"Smart TV\",\n    \"product_category\": \"Home Electronics\"\n  },\n  {\n    \"product_id\": 2,\n    \"product_name\": \"Wireless Earbuds\",\n    \"product_category\": \"Electronics & Gadgets\"\n  },\n  {\n    \"product_id\": 3,\n    \"product_name\": \"Refrigerator\",\n    \"product_category\": \"Electronics Appliances\"\n  },\n  {\n    \"product_id\": 4,\n    \"product_name\": \"Bestselling Novel\",\n    \"product_category\": \"Books\"\n  },\n  {\n    \"product_id\": 5,\n    \"product_name\": \"Designer Jeans\",\n    \"product_category\": \"Fashion\"\n  },\n  {\n    \"product_id\": 6,\n    \"product_name\": \"Blender\",\n    \"product_category\": \"Kitchen\"\n  },\n  {\n    \"product_id\": 7,\n    \"product_name\": \"Tent\",\n    \"product_category\": \"Outdoor\"\n  },\n  {\n    \"product_id\": 8,\n    \"product_name\": \"Smart Home Hub\",\n    \"product_category\": \"Home Electronics\"\n  },\n  {\n    \"product_id\": 9,\n    \"product_name\": \"Phone Charger\",\n    \"product_category\": \"Electronics Accessories\"\n  },\n  {\n    \"product_id\": 10,\n    \"product_name\": \"Skincare Set\",\n    \"product_category\": \"Health & Beauty\"\n  },\n  {\n    \"product_id\": 11,\n    \"product_name\": \"Drone\",\n    \"product_category\": \"Electronics Gadgets\"\n  },\n  {\n    \"product_id\": 12,\n    \"product_name\": \"Car Charger\",\n    \"product_category\": \"Automotive\"\n  }\n]\ndim_product = pd.DataFrame(dim_product_data)\n\nfct_ad_performance_data = [\n  {\n    \"ad_id\": 101,\n    \"clicks\": 10,\n    \"product_id\": 1,\n    \"impressions\": 200,\n    \"recorded_date\": \"2024-10-02\"\n  },\n  {\n    \"ad_id\": 102,\n    \"clicks\": 15,\n    \"product_id\": 1,\n    \"impressions\": 300,\n    \"recorded_date\": \"2024-10-12\"\n  },\n  {\n    \"ad_id\": 103,\n    \"clicks\": 20,\n    \"product_id\": 2,\n    \"impressions\": 250,\n    \"recorded_date\": \"2024-10-05\"\n  },\n  {\n    \"ad_id\": 104,\n    \"clicks\": 18,\n    \"product_id\": 2,\n    \"impressions\": 230,\n    \"recorded_date\": \"2024-10-20\"\n  },\n  {\n    \"ad_id\": 105,\n    \"clicks\": 5,\n    \"product_id\": 3,\n    \"impressions\": 150,\n    \"recorded_date\": \"2024-10-15\"\n  },\n  {\n    \"ad_id\": 106,\n    \"clicks\": 12,\n    \"product_id\": 3,\n    \"impressions\": 180,\n    \"recorded_date\": \"2024-10-25\"\n  },\n  {\n    \"ad_id\": 107,\n    \"clicks\": 50,\n    \"product_id\": 4,\n    \"impressions\": 500,\n    \"recorded_date\": \"2024-10-07\"\n  },\n  {\n    \"ad_id\": 108,\n    \"clicks\": 8,\n    \"product_id\": 5,\n    \"impressions\": 250,\n    \"recorded_date\": \"2024-10-18\"\n  },\n  {\n    \"ad_id\": 109,\n    \"clicks\": 14,\n    \"product_id\": 6,\n    \"impressions\": 200,\n    \"recorded_date\": \"2024-10-10\"\n  },\n  {\n    \"ad_id\": 110,\n    \"clicks\": 22,\n    \"product_id\": 8,\n    \"impressions\": 220,\n    \"recorded_date\": \"2024-10-30\"\n  },\n  {\n    \"ad_id\": 111,\n    \"clicks\": 30,\n    \"product_id\": 9,\n    \"impressions\": 300,\n    \"recorded_date\": \"2024-10-08\"\n  },\n  {\n    \"ad_id\": 112,\n    \"clicks\": 7,\n    \"product_id\": 11,\n    \"impressions\": 120,\n    \"recorded_date\": \"2024-10-22\"\n  },\n  {\n    \"ad_id\": 113,\n    \"clicks\": 13,\n    \"product_id\": 11,\n    \"impressions\": 150,\n    \"recorded_date\": \"2024-10-28\"\n  },\n  {\n    \"ad_id\": 114,\n    \"clicks\": 9,\n    \"product_id\": 12,\n    \"impressions\": 190,\n    \"recorded_date\": \"2024-10-11\"\n  },\n  {\n    \"ad_id\": 115,\n    \"clicks\": 16,\n    \"product_id\": 2,\n    \"impressions\": 160,\n    \"recorded_date\": \"2024-11-01\"\n  }\n]\nfct_ad_performance = pd.DataFrame(fct_ad_performance_data)\n"
    },
    {
      "cell_type": "markdown",
      "metadata": {},
      "source": [
        "## Question 1\n\nWhat is the average click-through rate (CTR) for sponsored product ads for each product category that contains the substring 'Electronics' in its name during October 2024? This analysis will help determine which electronics-related categories are performing optimally."
      ]
    },
    {
      "cell_type": "code",
      "metadata": {},
      "execution_count": null,
      "outputs": [],
      "source": "# Convert recorded_date to datetime\nfct_ad_performance['recorded_date'] = pd.to_datetime(fct_ad_performance['recorded_date'])\n\n# Filter for records in October 2024\noctober_ads = fct_ad_performance[\n    (fct_ad_performance['recorded_date'].dt.year == 2024) &\n    (fct_ad_performance['recorded_date'].dt.month == 10)\n]\n\n# Merge with product data on product_id\nmerged_df = pd.merge(october_ads, dim_product, on='product_id', how='left')\n\n# Filter rows where product_category contains 'Electronics' (case-insensitive)\nelectronics_ads = merged_df[\n    merged_df['product_category'].str.contains('Electronics', case=False, na=False)\n]\n\n# Avoid division by zero\nelectronics_ads = electronics_ads[electronics_ads['impressions'] > 0]\n\n# Calculate CTR for each row\nelectronics_ads['ctr'] = electronics_ads['clicks'] / electronics_ads['impressions']\n\n# Group by product_category and calculate average CTR\navg_ctr_by_category = electronics_ads.groupby('product_category')['ctr'].mean().reset_index()\n\n# Sort descending by CTR\navg_ctr_by_category = avg_ctr_by_category.sort_values(by='ctr', ascending=False)\n\n# Show result\nprint(avg_ctr_by_category)"
    },
    {
      "cell_type": "markdown",
      "metadata": {},
      "source": [
        "## Question 2\n\nWhich product categories have a CTR greater than the aggregated overall average CTR for sponsored product ads during October 2024? This analysis will identify high-performing categories for further optimization. For this question, we want to calculate CTR for each ad, then get the average across ads by product category & overall."
      ]
    },
    {
      "cell_type": "code",
      "metadata": {},
      "execution_count": null,
      "outputs": [],
      "source": "# Convert recorded_date to datetime\nfct_ad_performance['recorded_date'] = pd.to_datetime(fct_ad_performance['recorded_date'])\n\n# Filter for October 2024\noctober_ads = fct_ad_performance[\n    (fct_ad_performance['recorded_date'].dt.year == 2024) &\n    (fct_ad_performance['recorded_date'].dt.month == 10)\n]\n\n# Merge with product metadata\nmerged_df = pd.merge(october_ads, dim_product, on='product_id', how='left')\n\n# Remove rows with 0 impressions to avoid division by zero\nmerged_df = merged_df[merged_df['impressions'] > 0]\n\n# Calculate CTR for each ad\nmerged_df['ctr'] = merged_df['clicks'] / merged_df['impressions']\n\n# Calculate average CTR by product category\navg_ctr_by_category = merged_df.groupby('product_category')['ctr'].mean().reset_index()\n\n# Calculate overall average CTR across all ads\noverall_avg_ctr = merged_df['ctr'].mean()\n\n# Filter categories where average CTR > overall average CTR\nhigh_performing_categories = avg_ctr_by_category[\n    avg_ctr_by_category['ctr'] > overall_avg_ctr\n].sort_values(by='ctr', ascending=False)\n\n# Show result\nprint(\"Overall average CTR:\", round(overall_avg_ctr, 4))\nprint(\"\\nHigh-performing product categories:\")\nprint(high_performing_categories)"
    },
    {
      "cell_type": "markdown",
      "metadata": {},
      "source": [
        "## Question 3\n\nFor the product categories identified in the previous question, what is the percentage difference between their CTR and the overall average CTR for October 2024? This analysis will quantify the performance gap to recommend specific categories for targeted advertising optimization."
      ]
    },
    {
      "cell_type": "code",
      "metadata": {},
      "execution_count": null,
      "outputs": [],
      "source": "# Convert recorded_date to datetime\nfct_ad_performance['recorded_date'] = pd.to_datetime(fct_ad_performance['recorded_date'])\n\n# Filter for October 2024\noctober_ads = fct_ad_performance[\n    (fct_ad_performance['recorded_date'].dt.year == 2024) &\n    (fct_ad_performance['recorded_date'].dt.month == 10)\n]\n\n# Merge with product metadata\nmerged_df = pd.merge(october_ads, dim_product, on='product_id', how='left')\n\n# Filter out rows with zero impressions\nmerged_df = merged_df[merged_df['impressions'] > 0]\n\n# Calculate CTR per ad\nmerged_df['ctr'] = merged_df['clicks'] / merged_df['impressions']\n\n# Average CTR per product category\navg_ctr_by_category = merged_df.groupby('product_category')['ctr'].mean().reset_index()\n\n# Overall average CTR across all ads\noverall_avg_ctr = merged_df['ctr'].mean()\n\n# Filter high-performing categories\nhigh_performing = avg_ctr_by_category[avg_ctr_by_category['ctr'] > overall_avg_ctr].copy()\n\n# Calculate percentage difference\nhigh_performing['percent_difference'] = (\n    (high_performing['ctr'] - overall_avg_ctr) / overall_avg_ctr * 100\n).round(2)\n\n# Sort by percentage difference\nhigh_performing = high_performing.sort_values(by='percent_difference', ascending=False)\n\n# Show results\nprint(f\"Overall Average CTR: {round(overall_avg_ctr, 4)}\\n\")\nprint(\"High-Performing Categories (CTR > Overall CTR):\\n\")\nprint(high_performing)"
    },
    {
      "cell_type": "markdown",
      "metadata": {},
      "source": [
        "Made with ❤️ by [Interview Master](https://www.interviewmaster.ai)"
      ]
    }
  ],
  "metadata": {
    "kernelspec": {
      "name": "python3",
      "language": "python",
      "display_name": "Python 3"
    },
    "language_info": {
      "name": "python",
      "version": "3",
      "mimetype": "text/x-python",
      "file_extension": ".py"
    }
  },
  "nbformat": 4,
  "nbformat_minor": 5
}