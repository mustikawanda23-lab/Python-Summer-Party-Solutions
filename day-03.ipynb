{
  "cells": [
    {
      "cell_type": "markdown",
      "metadata": {},
      "source": [
        "# Day 3: Disney Parks Guest Spending Behavior"
      ]
    },
    {
      "cell_type": "markdown",
      "metadata": {},
      "source": [
        "You are a data analyst working with the Disney Parks revenue team to understand nuanced guest spending patterns across different park experiences. The team wants to develop a comprehensive view of visitor purchasing behaviors. Your goal is to uncover meaningful insights that can drive personalized marketing strategies."
      ]
    },
    {
      "cell_type": "code",
      "metadata": {},
      "execution_count": null,
      "outputs": [],
      "source": "import pandas as pd\nimport numpy as np\n\nfct_guest_spending_data = [\n  {\n    \"guest_id\": 1,\n    \"visit_date\": \"2024-07-05\",\n    \"amount_spent\": 50,\n    \"park_experience_type\": \"Attraction\"\n  },\n  {\n    \"guest_id\": 2,\n    \"visit_date\": \"2024-07-06\",\n    \"amount_spent\": 30,\n    \"park_experience_type\": \"Dining\"\n  },\n  {\n    \"guest_id\": 3,\n    \"visit_date\": \"2024-07-10\",\n    \"amount_spent\": 20.5,\n    \"park_experience_type\": \"Retail\"\n  },\n  {\n    \"guest_id\": 4,\n    \"visit_date\": \"2024-07-12\",\n    \"amount_spent\": 40,\n    \"park_experience_type\": \"Entertainment\"\n  },\n  {\n    \"guest_id\": 1,\n    \"visit_date\": \"2024-07-15\",\n    \"amount_spent\": 35,\n    \"park_experience_type\": \"Dining\"\n  },\n  {\n    \"guest_id\": 5,\n    \"visit_date\": \"2024-07-20\",\n    \"amount_spent\": 60,\n    \"park_experience_type\": \"Attraction\"\n  },\n  {\n    \"guest_id\": 6,\n    \"visit_date\": \"2024-07-25\",\n    \"amount_spent\": 25,\n    \"park_experience_type\": \"Retail\"\n  },\n  {\n    \"guest_id\": 1,\n    \"visit_date\": \"2024-08-03\",\n    \"amount_spent\": 55,\n    \"park_experience_type\": \"Attraction\"\n  },\n  {\n    \"guest_id\": 1,\n    \"visit_date\": \"2024-08-15\",\n    \"amount_spent\": 45,\n    \"park_experience_type\": \"Dining\"\n  },\n  {\n    \"guest_id\": 2,\n    \"visit_date\": \"2024-08-05\",\n    \"amount_spent\": 22,\n    \"park_experience_type\": \"Retail\"\n  },\n  {\n    \"guest_id\": 2,\n    \"visit_date\": \"2024-08-20\",\n    \"amount_spent\": 38,\n    \"park_experience_type\": \"Entertainment\"\n  },\n  {\n    \"guest_id\": 7,\n    \"visit_date\": \"2024-08-10\",\n    \"amount_spent\": 15,\n    \"park_experience_type\": \"Character Meet\"\n  },\n  {\n    \"guest_id\": 3,\n    \"visit_date\": \"2024-08-25\",\n    \"amount_spent\": 28,\n    \"park_experience_type\": \"Retail\"\n  },\n  {\n    \"guest_id\": 3,\n    \"visit_date\": \"2024-08-27\",\n    \"amount_spent\": 32,\n    \"park_experience_type\": \"Dining\"\n  },\n  {\n    \"guest_id\": 1,\n    \"visit_date\": \"2024-09-02\",\n    \"amount_spent\": 65,\n    \"park_experience_type\": \"Attraction\"\n  },\n  {\n    \"guest_id\": 8,\n    \"visit_date\": \"2024-09-05\",\n    \"amount_spent\": 50,\n    \"park_experience_type\": \"Retail\"\n  },\n  {\n    \"guest_id\": 9,\n    \"visit_date\": \"2024-09-15\",\n    \"amount_spent\": 40,\n    \"park_experience_type\": \"Dining\"\n  },\n  {\n    \"guest_id\": 10,\n    \"visit_date\": \"2024-09-20\",\n    \"amount_spent\": 70,\n    \"park_experience_type\": \"Entertainment\"\n  },\n  {\n    \"guest_id\": 1,\n    \"visit_date\": \"2024-09-25\",\n    \"amount_spent\": 35,\n    \"park_experience_type\": \"Dining\"\n  },\n  {\n    \"guest_id\": 8,\n    \"visit_date\": \"2024-09-28\",\n    \"amount_spent\": 10,\n    \"park_experience_type\": \"Character Meet\"\n  }\n]\nfct_guest_spending = pd.DataFrame(fct_guest_spending_data)\n"
    },
    {
      "cell_type": "markdown",
      "metadata": {},
      "source": [
        "## Question 1\n\nWhat is the average spending per guest per visit for each park experience type during July 2024? Ensure that park experience types with no recorded transactions are shown with an average spending of 0.0. This analysis helps establish baseline spending differences essential for later segmentation."
      ]
    },
    {
      "cell_type": "code",
      "metadata": {},
      "execution_count": null,
      "outputs": [],
      "source": "# Convert visit_date to datetime\ndf['visit_date'] = pd.to_datetime(df['visit_date'])\n\n# Filter for July 2024\njuly_data = df[\n    (df['visit_date'].dt.year == 2024) &\n    (df['visit_date'].dt.month == 7)\n]\n\n# Calculate spending per guest per visit per experience\nper_visit_spending = july_data.groupby(\n    ['guest_id', 'visit_date', 'park_experience_type']\n)['amount_spent'].sum().reset_index()\n\n# Calculate average per-visit spending per experience type\navg_spending_by_experience = per_visit_spending.groupby(\n    'park_experience_type'\n)['amount_spent'].mean().reset_index()\n\n# Rename column for clarity\navg_spending_by_experience.rename(columns={'amount_spent': 'avg_spending_per_visit'}, inplace=True)\n\n# Include experience types with no transactions\nall_experience_types = df['park_experience_type'].dropna().unique()\nall_experience_types_df = pd.DataFrame({'park_experience_type': all_experience_types})\n\n# Join to ensure all experience types are included\nfinal_result = pd.merge(all_experience_types_df, avg_spending_by_experience,\n                        on='park_experience_type', how='left')\n\n# Fill missing values (no spending in July) with 0.0\nfinal_result['avg_spending_per_visit'] = final_result['avg_spending_per_visit'].fillna(0.0)\n\n# Sort\nfinal_result = final_result.sort_values(by='avg_spending_per_visit', ascending=False)\n\n# Show result\nprint(final_result)"
    },
    {
      "cell_type": "markdown",
      "metadata": {},
      "source": [
        "## Question 2\n\nFor guests who visited our parks more than once in August 2024, what is the difference in spending between their first and their last visit? This investigation, using sequential analysis, will reveal any shifts in guest spending behavior over multiple visits."
      ]
    },
    {
      "cell_type": "code",
      "metadata": {},
      "execution_count": null,
      "outputs": [],
      "source": "# Convert visit_date to datetime\ndf['visit_date'] = pd.to_datetime(df['visit_date'])\n\n# Filter for August 2024\naugust_data = df[\n    (df['visit_date'].dt.year == 2024) &\n    (df['visit_date'].dt.month == 8)\n]\n\n# Sum spending per guest per visit\nvisit_spending = august_data.groupby(['guest_id', 'visit_date'])['amount_spent'].sum().reset_index()\n\n# Keep only guests with more than one visit\nvisit_counts = visit_spending['guest_id'].value_counts()\nmulti_visit_guests = visit_counts[visit_counts > 1].index\nmulti_visit_data = visit_spending[visit_spending['guest_id'].isin(multi_visit_guests)]\n\n# For each guest, get first and last visit spending\nfirst_last_spending = multi_visit_data.sort_values(['guest_id', 'visit_date']).groupby('guest_id').agg(\n    first_visit_spending=('amount_spent', 'first'),\n    last_visit_spending=('amount_spent', 'last')\n).reset_index()\n\n# Calculate the difference\nfirst_last_spending['spending_difference'] = (\n    first_last_spending['last_visit_spending'] - first_last_spending['first_visit_spending']\n)\n\n# Show result\nprint(first_last_spending)"
    },
    {
      "cell_type": "markdown",
      "metadata": {},
      "source": [
        "## Question 3\n\nIn September 2024, how can guests be categorized into distinct spending segments such as Low, Medium, and High based on their total spending? Use the following thresholds for categorization: \n-Low: Includes values from $0 up to, but not including, $50.\n-Medium: Includes values from $50 up to, but not including, $100.\n-High: Includes values from $100 and above. \nExclude guests who did not make any purchases in the period."
      ]
    },
    {
      "cell_type": "code",
      "metadata": {},
      "execution_count": null,
      "outputs": [],
      "source": "# Convert visit_date to datetime\ndf['visit_date'] = pd.to_datetime(df['visit_date'])\n\n# Filter for September 2024\nsept_data = df[\n    (df['visit_date'].dt.year == 2024) &\n    (df['visit_date'].dt.month == 9)\n]\n\n# Group by guest and calculate total spending\ntotal_spending = sept_data.groupby('guest_id')['amount_spent'].sum().reset_index()\n\n# Exclude guests with no purchases\ntotal_spending = total_spending[total_spending['amount_spent'] > 0]\n\n# Define segmentation function\ndef categorize_spending(amount):\n    if amount < 50:\n        return 'Low'\n    elif amount < 100:\n        return 'Medium'\n    else:\n        return 'High'\n\n# Apply segmentation\ntotal_spending['spending_segment'] = total_spending['amount_spent'].apply(categorize_spending)\n\n# Show result\nprint(total_spending)"
    },
    {
      "cell_type": "markdown",
      "metadata": {},
      "source": [
        "Made with ❤️ by [Interview Master](https://www.interviewmaster.ai)"
      ]
    }
  ],
  "metadata": {
    "kernelspec": {
      "name": "python3",
      "language": "python",
      "display_name": "Python 3"
    },
    "language_info": {
      "name": "python",
      "version": "3",
      "mimetype": "text/x-python",
      "file_extension": ".py"
    }
  },
  "nbformat": 4,
  "nbformat_minor": 5
}